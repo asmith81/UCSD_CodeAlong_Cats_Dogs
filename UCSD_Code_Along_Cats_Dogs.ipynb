{
  "nbformat": 4,
  "nbformat_minor": 0,
  "metadata": {
    "colab": {
      "provenance": []
    },
    "kernelspec": {
      "name": "python3",
      "display_name": "Python 3"
    },
    "language_info": {
      "name": "python"
    }
  },
  "cells": [
    {
      "cell_type": "code",
      "execution_count": 1,
      "metadata": {
        "id": "TPBEfH3LaKWM"
      },
      "outputs": [],
      "source": [
        "import numpy as np\n",
        "import tensorflow as tf\n",
        "from tensorflow import keras\n",
        "from tensorflow.keras.models import Sequential\n",
        "from tensorflow.keras.layers import Activation, Dense, Flatten, BatchNormalization, Conv2D, MaxPool2D\n",
        "from tensorflow.keras.optimizers import Adam\n",
        "from tensorflow.keras.metrics import categorical_crossentropy\n",
        "from tensorflow.keras.preprocessing.image import ImageDataGenerator\n",
        "from sklearn.metrics import confusion_matrix\n",
        "import itertools\n",
        "import os\n",
        "import shutil\n",
        "import random\n",
        "import glob\n",
        "import matplotlib.pyplot as plt\n",
        "import warnings\n",
        "warnings.simplefilter(action='ignore', category=FutureWarning)\n",
        "%matplotlib inline"
      ]
    },
    {
      "cell_type": "code",
      "source": [
        "physical_devices = tf.config.experimental.list_physical_devices('GPU')\n",
        "print(\"Num GPUs Available: \", len(physical_devices))\n",
        "tf.config.experimental.set_memory_growth(physical_devices[0], True)"
      ],
      "metadata": {
        "id": "pSccdhyxay1M"
      },
      "execution_count": null,
      "outputs": []
    },
    {
      "cell_type": "code",
      "source": [
        "# organize data into train, valid, test dirs\n",
        "from os import makedirs\n",
        "from os import listdir\n",
        "if os.path.isdir('train/dog') is False:\n",
        "    os.makedirs('train/dog')\n",
        "    os.makedirs('train/cat')\n",
        "    os.makedirs('valid/dog')\n",
        "    os.makedirs('valid/cat')\n",
        "    os.makedirs('test/dog')\n",
        "    os.makedirs('test/cat')\n",
        "\n",
        "    for c in random.sample(glob.glob('cat*'), 500):\n",
        "        shutil.move(c, 'train/cat')\n",
        "    for c in random.sample(glob.glob('dog*'), 500):\n",
        "        shutil.move(c, 'train/dog')\n",
        "    for c in random.sample(glob.glob('cat*'), 100):\n",
        "        shutil.move(c, 'valid/cat')\n",
        "    for c in random.sample(glob.glob('dog*'), 100):\n",
        "        shutil.move(c, 'valid/dog')\n",
        "    for c in random.sample(glob.glob('cat*'), 50):\n",
        "        shutil.move(c, 'test/cat')\n",
        "    for c in random.sample(glob.glob('dog*'), 50):\n",
        "        shutil.move(c, 'test/dog')\n",
        "os.chdir('../../')"
      ],
      "metadata": {
        "id": "gJukQPNJbDwl"
      },
      "execution_count": null,
      "outputs": []
    },
    {
      "cell_type": "code",
      "source": [
        "# Make Paths\n",
        "train_path = 'data/dogs-vs-cats/train'\n",
        "valid_path = 'data/dogs-vs-cats/valid'\n",
        "test_path = 'data/dogs-vs-cats/test'"
      ],
      "metadata": {
        "id": "zgwfntvhd4Z8"
      },
      "execution_count": null,
      "outputs": []
    },
    {
      "cell_type": "code",
      "source": [
        "# Prepare Data\n",
        "train_batches = ImageDataGenerator(preprocessing_function=tf.keras.applications.vgg16.preprocess_input) \\\n",
        ".flow_from_directory(directory=train_path, target_size=(224,224), classes=['cat', 'dog'], batch_size=10)\n",
        "valid_batches = ImageDataGenerator(preprocessing_function=tf.keras.applications.vgg16.preprocess_input) \\\n",
        ".flow_from_directory(directory=valid_path, target_size=(224,224), classes=['cat', 'dog'], batch_size=10)\n",
        "test_batches = ImageDataGenerator(preprocessing_function=tf.keras.applications.vgg16.preprocess_input) \\\n",
        ".flow_from_directory(directory=test_path, target_size=(224,224), classes=['cat', 'dog'], batch_size=10, shuffle=False)"
      ],
      "metadata": {
        "id": "sMwagr3neO6N"
      },
      "execution_count": null,
      "outputs": []
    },
    {
      "cell_type": "code",
      "source": [],
      "metadata": {
        "id": "FkEhRP4mg63M"
      },
      "execution_count": null,
      "outputs": []
    }
  ]
}