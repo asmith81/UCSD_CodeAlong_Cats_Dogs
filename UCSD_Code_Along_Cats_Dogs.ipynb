{
 "cells": [
  {
   "cell_type": "code",
   "execution_count": 4,
   "metadata": {},
   "outputs": [
    {
     "name": "stdout",
     "output_type": "stream",
     "text": [
      "d:\\UCSD_CodeAlong_Cats_Dogs\\venv\\Scripts\\python.exe\n"
     ]
    }
   ],
   "source": [
    "print(sys.executable)  # Should show your venv Python path"
   ]
  },
  {
   "cell_type": "code",
   "execution_count": 1,
   "metadata": {
    "id": "TPBEfH3LaKWM"
   },
   "outputs": [],
   "source": [
    "import numpy as np\n",
    "import tensorflow as tf\n",
    "from tensorflow import keras\n",
    "from tensorflow.keras.models import Sequential\n",
    "from tensorflow.keras.layers import Activation, Dense, Flatten, BatchNormalization, Conv2D, MaxPool2D\n",
    "from tensorflow.keras.optimizers import Adam\n",
    "from tensorflow.keras.metrics import categorical_crossentropy\n",
    "from tensorflow.keras.preprocessing.image import ImageDataGenerator\n",
    "from sklearn.metrics import confusion_matrix\n",
    "import itertools\n",
    "import os\n",
    "import shutil\n",
    "import random\n",
    "import glob\n",
    "import matplotlib.pyplot as plt\n",
    "import warnings\n",
    "warnings.simplefilter(action='ignore', category=FutureWarning)\n",
    "%matplotlib inline"
   ]
  },
  {
   "cell_type": "code",
   "execution_count": null,
   "metadata": {
    "id": "pSccdhyxay1M"
   },
   "outputs": [],
   "source": [
    "physical_devices = tf.config.experimental.list_physical_devices('GPU')\n",
    "print(\"Num GPUs Available: \", len(physical_devices))\n",
    "tf.config.experimental.set_memory_growth(physical_devices[0], True)"
   ]
  },
  {
   "cell_type": "code",
   "execution_count": null,
   "metadata": {
    "id": "gJukQPNJbDwl"
   },
   "outputs": [],
   "source": [
    "# organize data into train, valid, test dirs\n",
    "from os import makedirs\n",
    "from os import listdir\n",
    "from pathlib import Path\n",
    "\n",
    "data_dir = Path(r\"D:\\UCSD_CodeAlong_Cats_Dogs\\Data\")\n",
    "cat_data_dir = Path(r\"D:\\UCSD_CodeAlong_Cats_Dogs\\Data\\Cat\")\n",
    "dog_data_dir = Path(r\"D:\\UCSD_CodeAlong_Cats_Dogs\\Data\\Dog\")\n",
    "\n",
    "os.chdir(data_dir)\n",
    "working_dir = os.getcwd()\n",
    "print(working_dir)\n",
    "if os.path.isdir('train/dog') is False:\n",
    "    os.makedirs('train/dog')\n",
    "    os.makedirs('train/cat')\n",
    "    os.makedirs('valid/dog')\n",
    "    os.makedirs('valid/cat')\n",
    "    os.makedirs('test/dog')\n",
    "    os.makedirs('test/cat')"
   ]
  },
  {
   "cell_type": "code",
   "execution_count": 23,
   "metadata": {},
   "outputs": [],
   "source": [
    "os.chdir(data_dir)"
   ]
  },
  {
   "cell_type": "code",
   "execution_count": 21,
   "metadata": {},
   "outputs": [],
   "source": [
    "for c in random.sample(list(cat_data_dir.glob('*.jpg')), 500):\n",
    "    shutil.move(c, 'train/cat')\n",
    "for c in random.sample(list(dog_data_dir.glob('*jpg')), 500):\n",
    "    shutil.move(c, 'train/dog')\n",
    "for c in random.sample(list(cat_data_dir.glob('*jpg')), 100):\n",
    "    shutil.move(c, 'valid/cat')\n",
    "for c in random.sample(list(dog_data_dir.glob('*jpg')), 100):\n",
    "    shutil.move(c, 'valid/dog')\n",
    "for c in random.sample(list(cat_data_dir.glob('*jpg')), 50):\n",
    "    shutil.move(c, 'test/cat')\n",
    "for c in random.sample(list(dog_data_dir.glob('*jpg')), 50):\n",
    "    shutil.move(c, 'test/dog')\n",
    "\n"
   ]
  },
  {
   "cell_type": "code",
   "execution_count": 24,
   "metadata": {},
   "outputs": [
    {
     "name": "stdout",
     "output_type": "stream",
     "text": [
      "D:\\UCSD_CodeAlong_Cats_Dogs\n"
     ]
    }
   ],
   "source": [
    "os.chdir('../')\n",
    "working_dir = os.getcwd()\n",
    "print(working_dir)"
   ]
  },
  {
   "cell_type": "code",
   "execution_count": 25,
   "metadata": {
    "id": "zgwfntvhd4Z8"
   },
   "outputs": [],
   "source": [
    "# Make Paths\n",
    "train_path = Path(r'data/dogs-vs-cats/train')\n",
    "valid_path = Path(r'data/dogs-vs-cats/valid')\n",
    "test_path = Path(r'data/dogs-vs-cats/test')"
   ]
  },
  {
   "cell_type": "code",
   "execution_count": null,
   "metadata": {
    "id": "sMwagr3neO6N"
   },
   "outputs": [],
   "source": [
    "# Prepare Data\n",
    "train_batches = ImageDataGenerator(preprocessing_function=tf.keras.applications.vgg16.preprocess_input) \\\n",
    ".flow_from_directory(directory=train_path, target_size=(224,224), classes=['cat', 'dog'], batch_size=10)\n",
    "valid_batches = ImageDataGenerator(preprocessing_function=tf.keras.applications.vgg16.preprocess_input) \\\n",
    ".flow_from_directory(directory=valid_path, target_size=(224,224), classes=['cat', 'dog'], batch_size=10)\n",
    "test_batches = ImageDataGenerator(preprocessing_function=tf.keras.applications.vgg16.preprocess_input) \\\n",
    ".flow_from_directory(directory=test_path, target_size=(224,224), classes=['cat', 'dog'], batch_size=10, shuffle=False)"
   ]
  },
  {
   "cell_type": "code",
   "execution_count": null,
   "metadata": {
    "id": "FkEhRP4mg63M"
   },
   "outputs": [],
   "source": []
  }
 ],
 "metadata": {
  "colab": {
   "provenance": []
  },
  "kernelspec": {
   "display_name": "venv",
   "language": "python",
   "name": "python3"
  },
  "language_info": {
   "codemirror_mode": {
    "name": "ipython",
    "version": 3
   },
   "file_extension": ".py",
   "mimetype": "text/x-python",
   "name": "python",
   "nbconvert_exporter": "python",
   "pygments_lexer": "ipython3",
   "version": "3.12.2"
  }
 },
 "nbformat": 4,
 "nbformat_minor": 0
}
